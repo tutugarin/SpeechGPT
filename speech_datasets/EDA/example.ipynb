{
 "cells": [
  {
   "cell_type": "code",
   "execution_count": 1,
   "metadata": {},
   "outputs": [],
   "source": [
    "%load_ext autoreload\n",
    "%autoreload 2"
   ]
  },
  {
   "cell_type": "code",
   "execution_count": 2,
   "metadata": {},
   "outputs": [],
   "source": [
    "import sys\n",
    "\n",
    "sys.path.append(\"/Users/tutugarin/hse-ai\")\n",
    "# sys.path.append(\"/Users/tutugarin/hse-ai/SpeechGPT\")"
   ]
  },
  {
   "cell_type": "code",
   "execution_count": 3,
   "metadata": {},
   "outputs": [
    {
     "name": "stdout",
     "output_type": "stream",
     "text": [
      "ExampleItem(id='b2ee9837dbf1d413c95dc7ac5ad0d6b39f0dea0f5b8f4a924d432f7a2b90de04', text='This is an example text #0')\n",
      "ExampleItem(id='407cb7cff1df02b63f9234f6d42029a083235150c88f7c14213f24b36ae9540b', text='This is an example text #1')\n",
      "ExampleItem(id='84adcb9e1e0e7871f4542b2b9ad31b0c51fa7234eadbda35f0c877d22572d6b9', text='This is an example text #2')\n",
      "ExampleItem(id='2ae07bd7b7919dc94b5703a3e793d22693dd28284f6d5f85dbd329c623b399dd', text='This is an example text #3')\n",
      "ExampleItem(id='a95dedd5d97950de9fe8bc12502da8b8eeda56c304ec0f05c79dc863b9035dc1', text='This is an example text #4')\n"
     ]
    }
   ],
   "source": [
    "from SpeechGPT.datasets.examples.example import get_dataset_iterator_example\n",
    "\n",
    "\n",
    "for item in get_dataset_iterator_example(n_rows=5):\n",
    "    print(item)"
   ]
  },
  {
   "cell_type": "code",
   "execution_count": null,
   "metadata": {},
   "outputs": [],
   "source": []
  }
 ],
 "metadata": {
  "kernelspec": {
   "display_name": "Python 3",
   "language": "python",
   "name": "python3"
  },
  "language_info": {
   "codemirror_mode": {
    "name": "ipython",
    "version": 3
   },
   "file_extension": ".py",
   "mimetype": "text/x-python",
   "name": "python",
   "nbconvert_exporter": "python",
   "pygments_lexer": "ipython3",
   "version": "3.11.4"
  }
 },
 "nbformat": 4,
 "nbformat_minor": 2
}
